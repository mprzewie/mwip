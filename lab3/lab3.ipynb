{
 "cells": [
  {
   "cell_type": "markdown",
   "metadata": {},
   "source": [
    "# lab3"
   ]
  },
  {
   "cell_type": "code",
   "execution_count": 1,
   "metadata": {},
   "outputs": [],
   "source": [
    "from qiskit import QuantumCircuit, ClassicalRegister, QuantumRegister\n",
    "from qiskit import execute\n",
    "import numpy as np\n",
    "from qiskit import BasicAer\n",
    "backend = BasicAer.get_backend('statevector_simulator')\n"
   ]
  },
  {
   "cell_type": "code",
   "execution_count": 11,
   "metadata": {},
   "outputs": [],
   "source": [
    "def calculate(circuit):\n",
    "    return execute(circuit, backend).result().get_statevector(circuit)"
   ]
  },
  {
   "cell_type": "markdown",
   "metadata": {},
   "source": [
    "## Deutsch problem"
   ]
  },
  {
   "cell_type": "code",
   "execution_count": 83,
   "metadata": {},
   "outputs": [
    {
     "data": {
      "text/html": [
       "<pre style=\"word-wrap: normal;white-space: pre;line-height: 15px;\">                         ┌───┐┌───┐┌───┐\n",
       "q56_0: |0>───────────────┤ X ├┤ H ├┤ H ├\n",
       "          ┌───┐┌───┐┌───┐└───┘└───┘└───┘\n",
       "q57_0: |0>┤ X ├┤ H ├┤ H ├───────────────\n",
       "          └───┘└───┘└───┘               </pre>"
      ],
      "text/plain": [
       "<qiskit.tools.visualization._text.TextDrawing at 0x7f40119ad198>"
      ]
     },
     "execution_count": 83,
     "metadata": {},
     "output_type": "execute_result"
    }
   ],
   "source": [
    "u0 = QuantumRegister(1)\n",
    "u01 = QuantumRegister(1)\n",
    "c0 = QuantumCircuit(u0, u01)\n",
    "\n",
    "\n",
    "\n",
    "c0.x(u0)\n",
    "c0.x(u01)\n",
    "c0.h(u0)\n",
    "c0.h(u01)\n",
    "\n",
    "c0.h(u0)\n",
    "c0.h(u01)\n",
    "\n",
    "c0.draw()"
   ]
  },
  {
   "cell_type": "code",
   "execution_count": 84,
   "metadata": {},
   "outputs": [
    {
     "data": {
      "text/plain": [
       "array([0.+0.j, 0.+0.j, 0.+0.j, 1.+0.j])"
      ]
     },
     "execution_count": 84,
     "metadata": {},
     "output_type": "execute_result"
    }
   ],
   "source": [
    "calculate(c0)"
   ]
  },
  {
   "cell_type": "code",
   "execution_count": 88,
   "metadata": {},
   "outputs": [
    {
     "data": {
      "text/html": [
       "<pre style=\"word-wrap: normal;white-space: pre;line-height: 15px;\">                    ┌───┐┌───┐     ┌───┐     \n",
       "q60_0: |0>──────────┤ X ├┤ H ├──■──┤ H ├─────\n",
       "          ┌───┐┌───┐└───┘└───┘┌─┴─┐└───┘┌───┐\n",
       "q60_1: |0>┤ X ├┤ H ├──────────┤ X ├─────┤ H ├\n",
       "          └───┘└───┘          └───┘     └───┘</pre>"
      ],
      "text/plain": [
       "<qiskit.tools.visualization._text.TextDrawing at 0x7f40119d2c18>"
      ]
     },
     "execution_count": 88,
     "metadata": {},
     "output_type": "execute_result"
    }
   ],
   "source": [
    "u1 = QuantumRegister(2)\n",
    "c1 = QuantumCircuit(u1)\n",
    "# c1.initialize([0, 0 ,0 ,1], u1)\n",
    "c1.x(u1[0])\n",
    "c1.x(u1[1])\n",
    "\n",
    "c1.h(u1[1])\n",
    "c1.h(u1[0])\n",
    "c1.cx(u1[0], u1[1])\n",
    "c1.h(u1[1])\n",
    "c1.h(u1[0])\n",
    "c1.draw()"
   ]
  },
  {
   "cell_type": "code",
   "execution_count": 89,
   "metadata": {},
   "outputs": [
    {
     "data": {
      "text/plain": [
       "array([0.+0.j, 0.+0.j, 1.+0.j, 0.+0.j])"
      ]
     },
     "execution_count": 89,
     "metadata": {},
     "output_type": "execute_result"
    }
   ],
   "source": [
    "calculate(c1)"
   ]
  },
  {
   "cell_type": "code",
   "execution_count": null,
   "metadata": {},
   "outputs": [],
   "source": []
  }
 ],
 "metadata": {
  "kernelspec": {
   "display_name": "Python (ml)",
   "language": "python",
   "name": "ml"
  },
  "language_info": {
   "codemirror_mode": {
    "name": "ipython",
    "version": 3
   },
   "file_extension": ".py",
   "mimetype": "text/x-python",
   "name": "python",
   "nbconvert_exporter": "python",
   "pygments_lexer": "ipython3",
   "version": "3.7.1"
  }
 },
 "nbformat": 4,
 "nbformat_minor": 2
}
