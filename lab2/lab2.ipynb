{
 "cells": [
  {
   "cell_type": "markdown",
   "metadata": {},
   "source": [
    "# lab2"
   ]
  },
  {
   "cell_type": "markdown",
   "metadata": {},
   "source": [
    "Excercises: http://home.agh.edu.pl/~kzajac/dydakt/matp/lab2/zad2.pdf"
   ]
  },
  {
   "cell_type": "code",
   "execution_count": 1,
   "metadata": {},
   "outputs": [],
   "source": [
    "from qiskit import QuantumCircuit, ClassicalRegister, QuantumRegister\n",
    "from qiskit import execute\n",
    "import numpy as np\n",
    "from qiskit import BasicAer\n",
    "backend = BasicAer.get_backend('statevector_simulator')\n"
   ]
  },
  {
   "cell_type": "markdown",
   "metadata": {},
   "source": [
    "## example 1 "
   ]
  },
  {
   "cell_type": "code",
   "execution_count": 2,
   "metadata": {},
   "outputs": [
    {
     "data": {
      "text/html": [
       "<pre style=\"word-wrap: normal;white-space: pre;line-height: 15px;\">                       ┌───┐\n",
       "q0_0: |0>──────────────┤ H ├\n",
       "         ┌────────────┐└───┘\n",
       "q0_1: |0>┤ Ry(1.0472) ├─────\n",
       "         └────────────┘     </pre>"
      ],
      "text/plain": [
       "<qiskit.tools.visualization._text.TextDrawing at 0x7fc598d462b0>"
      ]
     },
     "execution_count": 2,
     "metadata": {},
     "output_type": "execute_result"
    }
   ],
   "source": [
    "q1 = QuantumRegister(2)\n",
    "circ1 = QuantumCircuit(q1)\n",
    "circ1.h(q1[0])\n",
    "circ1.ry(np.pi / 3, q1[1])\n",
    "circ1.draw()"
   ]
  },
  {
   "cell_type": "code",
   "execution_count": 3,
   "metadata": {},
   "outputs": [
    {
     "data": {
      "text/plain": [
       "array([0.61237244+0.j, 0.61237244+0.j, 0.35355339+0.j, 0.35355339+0.j])"
      ]
     },
     "execution_count": 3,
     "metadata": {},
     "output_type": "execute_result"
    }
   ],
   "source": [
    "execute(circ1, backend).result().get_statevector(circ1)"
   ]
  },
  {
   "cell_type": "markdown",
   "metadata": {},
   "source": [
    "## example 2"
   ]
  },
  {
   "cell_type": "code",
   "execution_count": 4,
   "metadata": {},
   "outputs": [
    {
     "data": {
      "text/html": [
       "<pre style=\"word-wrap: normal;white-space: pre;line-height: 15px;\">                                     ┌───┐\n",
       "q1_0: |0>────────────────────────────┤ H ├\n",
       "         ┌────────────┐┌────────────┐└───┘\n",
       "q1_1: |0>┤ Ry(3.1416) ├┤ Ry(1.0472) ├─────\n",
       "         └────────────┘└────────────┘     </pre>"
      ],
      "text/plain": [
       "<qiskit.tools.visualization._text.TextDrawing at 0x7fc54a4fe048>"
      ]
     },
     "execution_count": 4,
     "metadata": {},
     "output_type": "execute_result"
    }
   ],
   "source": [
    "q2 = QuantumRegister(2)\n",
    "circ2 = QuantumCircuit(q2)\n",
    "circ2.initialize([0, 0, 1, 0], q2)\n",
    "circ2.h(q2[0])\n",
    "circ2.ry(np.pi / 3, q2[1])\n",
    "circ2.draw()"
   ]
  },
  {
   "cell_type": "code",
   "execution_count": 5,
   "metadata": {},
   "outputs": [
    {
     "data": {
      "text/plain": [
       "array([-0.35355339+0.j, -0.35355339+0.j,  0.61237244+0.j,  0.61237244+0.j])"
      ]
     },
     "execution_count": 5,
     "metadata": {},
     "output_type": "execute_result"
    }
   ],
   "source": [
    "execute(circ2, backend).result().get_statevector(circ2)"
   ]
  },
  {
   "cell_type": "markdown",
   "metadata": {},
   "source": [
    "## example 3"
   ]
  },
  {
   "cell_type": "code",
   "execution_count": 6,
   "metadata": {},
   "outputs": [
    {
     "data": {
      "text/html": [
       "<pre style=\"word-wrap: normal;white-space: pre;line-height: 15px;\">                       ┌───┐┌───┐              \n",
       "q2_0: |0>──────────────┤ X ├┤ H ├──────────────\n",
       "         ┌────────────┐└─┬─┘└───┘┌────────────┐\n",
       "q2_1: |0>┤ Ry(3.1416) ├──■───────┤ Ry(1.0472) ├\n",
       "         └────────────┘          └────────────┘</pre>"
      ],
      "text/plain": [
       "<qiskit.tools.visualization._text.TextDrawing at 0x7fc54a4959e8>"
      ]
     },
     "execution_count": 6,
     "metadata": {},
     "output_type": "execute_result"
    }
   ],
   "source": [
    "q3 = QuantumRegister(2)\n",
    "circ3 = QuantumCircuit(q3)\n",
    "circ3.initialize([0, 0, 1, 0], q3)\n",
    "circ3.cx(q3[1], q3[0])\n",
    "circ3.ry(np.pi/3, q3[1])\n",
    "circ3.h(q3[0])\n",
    "circ3.draw()"
   ]
  },
  {
   "cell_type": "code",
   "execution_count": 7,
   "metadata": {},
   "outputs": [
    {
     "data": {
      "text/plain": [
       "array([-0.35355339+0.j,  0.35355339+0.j,  0.61237244+0.j, -0.61237244+0.j])"
      ]
     },
     "execution_count": 7,
     "metadata": {},
     "output_type": "execute_result"
    }
   ],
   "source": [
    "execute(circ3, backend).result().get_statevector(circ3)"
   ]
  },
  {
   "cell_type": "markdown",
   "metadata": {},
   "source": [
    "## example 4"
   ]
  },
  {
   "cell_type": "code",
   "execution_count": 8,
   "metadata": {},
   "outputs": [
    {
     "data": {
      "text/html": [
       "<pre style=\"word-wrap: normal;white-space: pre;line-height: 15px;\">                                     ┌───┐┌───┐\n",
       "q3_0: |0>────────────────────────────┤ H ├┤ X ├\n",
       "         ┌────────────┐┌────────────┐└───┘└─┬─┘\n",
       "q3_1: |0>┤ Ry(3.1416) ├┤ Ry(1.0472) ├───────■──\n",
       "         └────────────┘└────────────┘          </pre>"
      ],
      "text/plain": [
       "<qiskit.tools.visualization._text.TextDrawing at 0x7fc54a4ac438>"
      ]
     },
     "execution_count": 8,
     "metadata": {},
     "output_type": "execute_result"
    }
   ],
   "source": [
    "q4 = QuantumRegister(2)\n",
    "circ4 = QuantumCircuit(q4)\n",
    "circ4.initialize([0, 0, 1, 0], q4)\n",
    "circ4.ry(np.pi/3, q4[1])\n",
    "circ4.h(q4[0])\n",
    "circ4.cx(q4[1], q4[0])\n",
    "\n",
    "circ4.draw()"
   ]
  },
  {
   "cell_type": "code",
   "execution_count": 9,
   "metadata": {},
   "outputs": [
    {
     "data": {
      "text/plain": [
       "array([-0.35355339+0.j, -0.35355339+0.j,  0.61237244+0.j,  0.61237244+0.j])"
      ]
     },
     "execution_count": 9,
     "metadata": {},
     "output_type": "execute_result"
    }
   ],
   "source": [
    "execute(circ4, backend).result().get_statevector(circ4)"
   ]
  }
 ],
 "metadata": {
  "kernelspec": {
   "display_name": "Python (ml)",
   "language": "python",
   "name": "ml"
  },
  "language_info": {
   "codemirror_mode": {
    "name": "ipython",
    "version": 3
   },
   "file_extension": ".py",
   "mimetype": "text/x-python",
   "name": "python",
   "nbconvert_exporter": "python",
   "pygments_lexer": "ipython3",
   "version": "3.7.1"
  }
 },
 "nbformat": 4,
 "nbformat_minor": 2
}
