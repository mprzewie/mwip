{
 "cells": [
  {
   "cell_type": "markdown",
   "metadata": {},
   "source": [
    "# Lab 1 - kwantowe\n",
    "\n",
    "## Zadania\n",
    "http://home.agh.edu.pl/~kzajac/dydakt/matp/lab1/kwantowe1.pdf\n",
    "\n",
    "**Rozwiązania: Marcin Przewięźlikowski**\n",
    "\n",
    "https://github.com/mprzewie/mwip_course"
   ]
  },
  {
   "cell_type": "code",
   "execution_count": 1,
   "metadata": {},
   "outputs": [],
   "source": [
    "using LinearAlgebra\n",
    "using QuantumInformation"
   ]
  },
  {
   "cell_type": "markdown",
   "metadata": {},
   "source": [
    "#### **1. Pokazać, że wektory $(1,0,1,0)$, $(1,1,0,0)$, $(0,1,1,1)$, $(0,0,1,1)$ tworzą bazę w przestrzeni $R^4$**"
   ]
  },
  {
   "cell_type": "markdown",
   "metadata": {},
   "source": [
    "Macierz stworzona przez złożenie tych wektorów to:"
   ]
  },
  {
   "cell_type": "code",
   "execution_count": 2,
   "metadata": {},
   "outputs": [
    {
     "data": {
      "text/plain": [
       "4×4 Array{Int64,2}:\n",
       " 1  0  1  0\n",
       " 1  1  0  0\n",
       " 0  1  1  1\n",
       " 0  0  1  1"
      ]
     },
     "execution_count": 2,
     "metadata": {},
     "output_type": "execute_result"
    }
   ],
   "source": [
    "v1 = [1 0 1 0]\n",
    "v2 = [1 1 0 0]\n",
    "v3 = [0 1 1 1]\n",
    "v4 = [0 0 1 1]\n",
    "\n",
    "m = [v1; v2; v3; v4]"
   ]
  },
  {
   "cell_type": "markdown",
   "metadata": {},
   "source": [
    "Rząd tej macierzy wynosi: "
   ]
  },
  {
   "cell_type": "code",
   "execution_count": 3,
   "metadata": {},
   "outputs": [
    {
     "data": {
      "text/plain": [
       "4"
      ]
     },
     "execution_count": 3,
     "metadata": {},
     "output_type": "execute_result"
    }
   ],
   "source": [
    "rank(m)"
   ]
  },
  {
   "cell_type": "markdown",
   "metadata": {},
   "source": [
    "Z tego, że $rank(m) = 4$ można wywnioskować, że jest ona złożona z czterech liniowo niezależnych wektorów - a więc tworzących bazę przestrzeni $R^4$"
   ]
  },
  {
   "cell_type": "markdown",
   "metadata": {},
   "source": [
    "#### **2. Przedstaw wektor $(2,0,-1,-2)$ jako kombinacje liniową wektorów bazy z p.1**"
   ]
  },
  {
   "cell_type": "code",
   "execution_count": 4,
   "metadata": {},
   "outputs": [
    {
     "data": {
      "text/plain": [
       "true"
      ]
     },
     "execution_count": 4,
     "metadata": {},
     "output_type": "execute_result"
    }
   ],
   "source": [
    "v5 = [2 0 -1 -2]\n",
    "(v1 + v2 - v3 - v4) == v5"
   ]
  },
  {
   "cell_type": "markdown",
   "metadata": {},
   "source": [
    "**3. Pokazać, że jeżeli przyjmiemy, ze stany pojedynczego bitu w komputerze klasycznym\n",
    "$0$ reprezentujemy przez wektor $(1,0)$, a $1$ przez wektor $(0,1)$, to dzialanie operatora\n",
    "NOT na danym bicie jest reprezentowane przez mnożenie macierzy $X = \\sigma_x$ przez wektor\n",
    "reprezentujący stan bitu.**"
   ]
  },
  {
   "cell_type": "code",
   "execution_count": 5,
   "metadata": {},
   "outputs": [
    {
     "data": {
      "text/plain": [
       "true"
      ]
     },
     "execution_count": 5,
     "metadata": {},
     "output_type": "execute_result"
    }
   ],
   "source": [
    "sigma_x = [ \n",
    "    [0 1]\n",
    "    [1 0]\n",
    "]\n",
    "\n",
    "f = [1 0]\n",
    "t = [0 1]\n",
    "\n",
    " f * sigma_x == t && t * sigma_x == f"
   ]
  },
  {
   "cell_type": "markdown",
   "metadata": {},
   "source": [
    "**4. Pokaż że macierze jednostkowa i Pauliego sa liniowo niezależne w przestrzeni liniowej\n",
    "macierzy 2x2 zarówno nad ciałem liczb rzeczywistych, jak i zespolonych.**"
   ]
  },
  {
   "cell_type": "code",
   "execution_count": 6,
   "metadata": {},
   "outputs": [
    {
     "data": {
      "text/plain": [
       "1×4 Array{Float64,2}:\n",
       " 1.0  0.0  0.0  -1.0"
      ]
     },
     "execution_count": 6,
     "metadata": {},
     "output_type": "execute_result"
    }
   ],
   "source": [
    "# jednostkowa\n",
    "eye = [\n",
    "    [1.0 0.0]\n",
    "    [0.0 1.0]\n",
    "]\n",
    "\n",
    "# macierze Pauliego\n",
    "sigma_1 =  [ \n",
    "    [0.0 1.0]\n",
    "    [1.0 0.0]\n",
    "]\n",
    "\n",
    "sigma_2 = [\n",
    "    [0.0 -1.0im]\n",
    "    [1.0im 0.0]\n",
    "]\n",
    "\n",
    "sigma_3 = [\n",
    "    [1.0 0.0]\n",
    "    [0.0 -1.0]\n",
    "]\n",
    "\n",
    "# macierze jako 4-wymiarowe wektory\n",
    "eye_v = reshape(eye, 1, 4)\n",
    "sigma_1_v = reshape(sigma_1, 1, 4)\n",
    "sigma_2_v = reshape(sigma_2, 1, 4)\n",
    "sigma_3_v = reshape(sigma_3, 1, 4)"
   ]
  },
  {
   "cell_type": "markdown",
   "metadata": {},
   "source": [
    "Rząd macierzy stworzonej z tych wektorów:"
   ]
  },
  {
   "cell_type": "code",
   "execution_count": 7,
   "metadata": {},
   "outputs": [
    {
     "data": {
      "text/plain": [
       "3"
      ]
     },
     "execution_count": 7,
     "metadata": {},
     "output_type": "execute_result"
    }
   ],
   "source": [
    "# rzeczywiste:\n",
    "rank(real([eye_v; sigma_1_v; sigma_2_v; sigma_3_v]))"
   ]
  },
  {
   "cell_type": "markdown",
   "metadata": {},
   "source": [
    "Macierz ma rząd 3, czego można się było spodziewać, gdyż $\\sigma_2$ w postaci rzeczywistej ma same zera. Pozostałe 3 macierze są liniowo niezależne."
   ]
  },
  {
   "cell_type": "code",
   "execution_count": 8,
   "metadata": {},
   "outputs": [
    {
     "data": {
      "text/plain": [
       "4"
      ]
     },
     "execution_count": 8,
     "metadata": {},
     "output_type": "execute_result"
    }
   ],
   "source": [
    "# zespolone\n",
    "rank(complex([eye_v; sigma_1_v; sigma_2_v; sigma_3_v]))"
   ]
  },
  {
   "cell_type": "markdown",
   "metadata": {},
   "source": [
    "Macierz ma rząd 4 a zatem wktory ją tworzące są liniowo niezależne. "
   ]
  },
  {
   "cell_type": "markdown",
   "metadata": {},
   "source": [
    "**5. Hermitowskie sprzężenie macierzy**"
   ]
  },
  {
   "cell_type": "code",
   "execution_count": 9,
   "metadata": {},
   "outputs": [
    {
     "data": {
      "text/plain": [
       "3×3 Transpose{Complex{Int64},Array{Complex{Int64},2}}:\n",
       " 1+1im  2+2im  3+3im\n",
       " 4+4im  5+5im  6+6im\n",
       " 7+7im  8+8im  9+9im"
      ]
     },
     "execution_count": 9,
     "metadata": {},
     "output_type": "execute_result"
    }
   ],
   "source": [
    "A = transpose(reshape(Vector(1:9) * (1 + 1im), 3, 3))"
   ]
  },
  {
   "cell_type": "code",
   "execution_count": 10,
   "metadata": {},
   "outputs": [],
   "source": [
    "# sprzężenie hermitowskie\n",
    "conj_trans(x) = conj(transpose(x));"
   ]
  },
  {
   "cell_type": "code",
   "execution_count": 11,
   "metadata": {},
   "outputs": [
    {
     "data": {
      "text/plain": [
       "3×3 Array{Complex{Int64},2}:\n",
       " 1-1im  4-4im  7-7im\n",
       " 2-2im  5-5im  8-8im\n",
       " 3-3im  6-6im  9-9im"
      ]
     },
     "execution_count": 11,
     "metadata": {},
     "output_type": "execute_result"
    }
   ],
   "source": [
    "conj_trans(A)"
   ]
  },
  {
   "cell_type": "markdown",
   "metadata": {},
   "source": [
    "**6. Wyjaśnić dlaczego macierze Pauliego są hermitowskie**"
   ]
  },
  {
   "cell_type": "markdown",
   "metadata": {},
   "source": [
    "Macierze Pauliego są hermitowskie, gdyż są równe swoim sprzężeniom hermitowskim:"
   ]
  },
  {
   "cell_type": "code",
   "execution_count": 12,
   "metadata": {},
   "outputs": [
    {
     "data": {
      "text/plain": [
       "true"
      ]
     },
     "execution_count": 12,
     "metadata": {},
     "output_type": "execute_result"
    }
   ],
   "source": [
    "all([s == conj_trans(s) for s in [sigma_1, sigma_2, sigma_3]])"
   ]
  },
  {
   "cell_type": "markdown",
   "metadata": {},
   "source": [
    "**Pokazać że\n",
    "dowolna macierz hermitowska (dwuwymiarowa) może być przedstawiona jako kombinacja liniowa (skalary\n",
    "rzeczywiste) macierzy jednostkowej i Pauliego.**"
   ]
  },
  {
   "cell_type": "markdown",
   "metadata": {},
   "source": [
    "Dwuwymiarowe macierze hermitowskie mogą powstać z przekształcenia wektora z $R^3$ $(a_1, a_2, a_3)$:\n",
    "\n",
    "$$ \\begin{matrix}\n",
    "a_1 & a_2 \\\\\n",
    "\\overline{a_2} & a_3 \n",
    "\\end{matrix}  $$\n",
    "Są one zatem równoważne wektorom z przestrzeni $R^3$. \n",
    "Macierze jednostkowa i Pauliego w postaci takich wektorów to:"
   ]
  },
  {
   "cell_type": "code",
   "execution_count": 13,
   "metadata": {},
   "outputs": [
    {
     "data": {
      "text/plain": [
       "4-element Array{Array{Complex{Float64},1},1}:\n",
       " [1.0+0.0im, 0.0+0.0im, 1.0+0.0im] \n",
       " [0.0+0.0im, 1.0+0.0im, 0.0+0.0im] \n",
       " [0.0+0.0im, 0.0+1.0im, 0.0+0.0im] \n",
       " [1.0+0.0im, 0.0+0.0im, -1.0+0.0im]"
      ]
     },
     "execution_count": 13,
     "metadata": {},
     "output_type": "execute_result"
    }
   ],
   "source": [
    "matrices_as_3_dim_vectors = [[s[1], s[2], s[4]] for s in [eye, sigma_1, sigma_2, sigma_3]]"
   ]
  },
  {
   "cell_type": "code",
   "execution_count": 14,
   "metadata": {},
   "outputs": [
    {
     "data": {
      "text/plain": [
       "3"
      ]
     },
     "execution_count": 14,
     "metadata": {},
     "output_type": "execute_result"
    }
   ],
   "source": [
    "rank(hcat(matrices_as_3_dim_vectors...))"
   ]
  },
  {
   "cell_type": "markdown",
   "metadata": {},
   "source": [
    "Rząd macierzy powstałej z tych wektorów wynosi 3, a więc z powodzeniem można złożyć z nich dowolny wektor z $R^3$, a więc i każdą dwuwymiarową macierz Hermitowską."
   ]
  },
  {
   "cell_type": "markdown",
   "metadata": {},
   "source": [
    "**7. Przypomnienie. Policzyć iloczyn skalarny wektorów w R3 dla a = $(1, 2, 3)$,\n",
    "b = $(3, 1, 4)$**"
   ]
  },
  {
   "cell_type": "code",
   "execution_count": 15,
   "metadata": {},
   "outputs": [
    {
     "data": {
      "text/plain": [
       "17"
      ]
     },
     "execution_count": 15,
     "metadata": {},
     "output_type": "execute_result"
    }
   ],
   "source": [
    "a = [1,2,3]\n",
    "b = [3,1,4]\n",
    "dot(a, b)"
   ]
  },
  {
   "cell_type": "markdown",
   "metadata": {},
   "source": [
    "**8. Wektory o współrzędnych zespolonych. Notacja Diraca. Niech $\\psi = (1 + i, 2 + 2i)$ oraz\n",
    "$\\phi = (3 + 3i, 4 + 4i)$**"
   ]
  },
  {
   "cell_type": "code",
   "execution_count": 16,
   "metadata": {},
   "outputs": [],
   "source": [
    "psi = [1 + 1im, 2 + 2im]\n",
    "phi = [3 + 3im, 4 + 4im];"
   ]
  },
  {
   "cell_type": "markdown",
   "metadata": {},
   "source": [
    "* przedstawic reprezentację kolumnową $| \\psi \\rangle$"
   ]
  },
  {
   "cell_type": "code",
   "execution_count": 17,
   "metadata": {},
   "outputs": [
    {
     "data": {
      "text/plain": [
       "q (generic function with 1 method)"
      ]
     },
     "execution_count": 17,
     "metadata": {},
     "output_type": "execute_result"
    }
   ],
   "source": [
    "q(bra_or_ket_f, v) = sum(bra_or_ket_f(i, length(v)) * v[i] for i=1:length(v)) "
   ]
  },
  {
   "cell_type": "code",
   "execution_count": 18,
   "metadata": {},
   "outputs": [
    {
     "data": {
      "text/plain": [
       "2-element Array{Complex{Float64},1}:\n",
       " 1.0 + 1.0im\n",
       " 2.0 + 2.0im"
      ]
     },
     "execution_count": 18,
     "metadata": {},
     "output_type": "execute_result"
    }
   ],
   "source": [
    "q(ket, psi)"
   ]
  },
  {
   "cell_type": "markdown",
   "metadata": {},
   "source": [
    "* przedstawic reprezentacje wierszową $\\langle \\psi | $"
   ]
  },
  {
   "cell_type": "code",
   "execution_count": 19,
   "metadata": {},
   "outputs": [
    {
     "data": {
      "text/plain": [
       "1×2 Adjoint{Complex{Float64},Array{Complex{Float64},1}}:\n",
       " 1.0+1.0im  2.0+2.0im"
      ]
     },
     "execution_count": 19,
     "metadata": {},
     "output_type": "execute_result"
    }
   ],
   "source": [
    "q(bra, psi)"
   ]
  },
  {
   "cell_type": "markdown",
   "metadata": {},
   "source": [
    "* policzyć iloczyn skalarny $\\langle \\psi | \\phi \\rangle$"
   ]
  },
  {
   "cell_type": "code",
   "execution_count": 20,
   "metadata": {},
   "outputs": [
    {
     "data": {
      "text/plain": [
       "22.0 + 0.0im"
      ]
     },
     "execution_count": 20,
     "metadata": {},
     "output_type": "execute_result"
    }
   ],
   "source": [
    "dot(q(bra, psi), q(ket, phi))"
   ]
  },
  {
   "cell_type": "markdown",
   "metadata": {},
   "source": [
    "* policzyć iloczyn skalarny $\\langle \\psi | \\psi \\rangle$"
   ]
  },
  {
   "cell_type": "code",
   "execution_count": 21,
   "metadata": {},
   "outputs": [
    {
     "data": {
      "text/plain": [
       "10.0 + 0.0im"
      ]
     },
     "execution_count": 21,
     "metadata": {},
     "output_type": "execute_result"
    }
   ],
   "source": [
    "dot(q(bra,psi),  q(ket, psi))"
   ]
  },
  {
   "cell_type": "markdown",
   "metadata": {},
   "source": [
    "* policzyć norme (dlugość) $\\psi$ zdefiniowana jako $\\sqrt[2]{ \\langle \\psi | \\psi \\rangle}$"
   ]
  },
  {
   "cell_type": "code",
   "execution_count": 22,
   "metadata": {},
   "outputs": [
    {
     "data": {
      "text/plain": [
       "3.1622776601683795 + 0.0im"
      ]
     },
     "execution_count": 22,
     "metadata": {},
     "output_type": "execute_result"
    }
   ],
   "source": [
    "sqrt(dot(q(bra, psi), q(ket, psi)))"
   ]
  },
  {
   "cell_type": "markdown",
   "metadata": {},
   "source": [
    "* przedstawić reprezentację macierzową operatora $| \\psi \\rangle \\langle \\phi | $"
   ]
  },
  {
   "cell_type": "code",
   "execution_count": 23,
   "metadata": {},
   "outputs": [
    {
     "data": {
      "text/plain": [
       "2×2 Array{Complex{Float64},2}:\n",
       " 0.0+6.0im   0.0+8.0im \n",
       " 0.0+12.0im  0.0+16.0im"
      ]
     },
     "execution_count": 23,
     "metadata": {},
     "output_type": "execute_result"
    }
   ],
   "source": [
    "q(ket, psi) * q(bra, phi)"
   ]
  },
  {
   "cell_type": "markdown",
   "metadata": {},
   "source": [
    "**9. Pokazać na macierzy liczb zespolonych:**\n",
    "\n",
    "$$\n",
    "A = \\begin{bmatrix}\n",
    "a & b \\\\\n",
    "c & d \n",
    "\\end{bmatrix} \n",
    "$$\n",
    "oraz\n",
    "$$\\psi = (\\alpha, \\beta)$$\n",
    "że $$(A | \\psi \\rangle)^T = \\langle \\psi | A^T$$"
   ]
  },
  {
   "cell_type": "markdown",
   "metadata": {},
   "source": [
    "$$\n",
    "(A | \\psi \\rangle)^T = \n",
    "\\begin{bmatrix}\n",
    "a\\alpha +  b\\beta \\\\\n",
    "c\\alpha +  d\\beta\n",
    "\\end{bmatrix}^T = \n",
    "\\begin{bmatrix}\n",
    "a\\alpha +  b\\beta & \n",
    "c\\alpha +  d\\beta \\\\\n",
    "\\end{bmatrix} = \n",
    "$$\n",
    "\n",
    "$$\n",
    "\\langle \\psi | A^T = \n",
    "\\langle \\alpha \\beta | \\begin{bmatrix}\n",
    "a & c \\\\\n",
    "b & d \n",
    "\\end{bmatrix} = \n",
    "\\begin{bmatrix}\n",
    "a\\alpha +  b\\beta & \n",
    "c\\alpha +  d\\beta \\\\\n",
    "\\end{bmatrix} \n",
    "$$\n",
    "\n",
    "$$c.n.d$$\n",
    "\n"
   ]
  },
  {
   "cell_type": "markdown",
   "metadata": {},
   "source": [
    "**10. Pokazać, że macierz unitarna nie zmienia długości wektora**\n",
    "\n",
    "Czyli \n",
    "\n",
    "$$\n",
    "A^TA = AA^T = 1 \\implies || \\psi || =  || A | \\psi \\rangle ||\n",
    "$$"
   ]
  },
  {
   "cell_type": "markdown",
   "metadata": {},
   "source": [
    "Niech $E$ będzie dwuwymiarową macierzą jednostkową. Wtedy: $$\\forall_{\\psi} \\langle \\psi | E = \\psi \\land  E| \\psi \\rangle = \\psi$$\n",
    "\n",
    "Zatem z **9**:\n",
    "$$(|\\psi \\rangle)^T = \\langle \\psi | $$\n",
    "i równoważnie\n",
    "$$( \\langle \\psi |)^T =  |\\psi \\rangle $$"
   ]
  },
  {
   "cell_type": "markdown",
   "metadata": {},
   "source": [
    "$ || A  |\\psi \\rangle || = \\sqrt[2]{(A  |\\psi \\rangle)^T(A  |\\psi \\rangle)}  = \\sqrt[2]{(\\langle \\psi | A^T)(A  |\\psi \\rangle)} = \\sqrt[2]{(\\langle \\psi | A^TA  |\\psi \\rangle)} = \\sqrt[2]{(\\langle \\psi | \\psi \\rangle)} = || \\psi || $\n",
    "\n",
    "$$c.n.d$$"
   ]
  },
  {
   "cell_type": "markdown",
   "metadata": {},
   "source": [
    "**11. Pokazać że macierze Pauliego są unitarne.**"
   ]
  },
  {
   "cell_type": "code",
   "execution_count": 24,
   "metadata": {},
   "outputs": [
    {
     "data": {
      "text/plain": [
       "true"
      ]
     },
     "execution_count": 24,
     "metadata": {},
     "output_type": "execute_result"
    }
   ],
   "source": [
    "all([s * conj_trans(s) == eye for s in [sigma_1, sigma_2, sigma_3]])"
   ]
  },
  {
   "cell_type": "markdown",
   "metadata": {},
   "source": [
    "**12. Iloczyn tensorowy wektorów. Niech $ \\psi = (1 + i, 2 + 2i)$ oraz $\\phi = (3 + 3i, 4 + 4i)$. Policzyć $|\\psi\\rangle \\otimes |\\phi\\rangle$**"
   ]
  },
  {
   "cell_type": "code",
   "execution_count": 25,
   "metadata": {},
   "outputs": [
    {
     "data": {
      "text/plain": [
       "4-element Array{Complex{Float64},1}:\n",
       " 0.0 + 6.0im \n",
       " 0.0 + 8.0im \n",
       " 0.0 + 12.0im\n",
       " 0.0 + 16.0im"
      ]
     },
     "execution_count": 25,
     "metadata": {},
     "output_type": "execute_result"
    }
   ],
   "source": [
    "kron(q(ket, psi), q(ket, phi))"
   ]
  },
  {
   "cell_type": "markdown",
   "metadata": {},
   "source": [
    "**13. Iloczyn tensorowy macierzy $A$ i $B$ to macierz $C$, że $A |\\psi\\rangle \\otimes B\\phi\\rangle = C(|\\psi\\rangle \\otimes |\\phi\\rangle)$. Użyć powyższej równości dla wektorów $\\psi = (\\alpha, \\beta)$, $\\phi = (\\gamma, \\delta)$ i znaleźć postać macierzową $X \\otimes X$**."
   ]
  },
  {
   "cell_type": "markdown",
   "metadata": {},
   "source": [
    "$$\n",
    "X = \\begin{bmatrix}\n",
    "a & b \\\\\n",
    "c & d \n",
    "\\end{bmatrix} \n",
    "$$\n",
    "\n",
    "$$\n",
    "X \\otimes X =  \n",
    "\\begin{bmatrix}\n",
    "aX & bX \\\\\n",
    "cX & dX \n",
    "\\end{bmatrix} = \n",
    "\\begin{bmatrix}\n",
    "aa & ab & ba & bb \\\\\n",
    "ac & ad & bc & bd \\\\\n",
    "ca & cb & da & db \\\\\n",
    "cc & cd & dc & dd \\\\\n",
    "\\end{bmatrix}\n",
    "$$"
   ]
  }
 ],
 "metadata": {
  "kernelspec": {
   "display_name": "Julia 1.0.3",
   "language": "julia",
   "name": "julia-1.0"
  },
  "language_info": {
   "file_extension": ".jl",
   "mimetype": "application/julia",
   "name": "julia",
   "version": "1.0.3"
  }
 },
 "nbformat": 4,
 "nbformat_minor": 2
}
