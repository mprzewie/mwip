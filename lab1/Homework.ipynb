{
 "cells": [
  {
   "cell_type": "markdown",
   "metadata": {},
   "source": [
    "# Zadanie domowe 1"
   ]
  },
  {
   "cell_type": "markdown",
   "metadata": {},
   "source": [
    "## Zadania\n",
    "http://www.lassp.cornell.edu/mermin/qcomp/prob1.pdf\n",
    "\n",
    "**Rozwiązania: Marcin Przewięźlikowski**\n",
    "\n",
    "https://github.com/mprzewie/mwip_course"
   ]
  },
  {
   "cell_type": "code",
   "execution_count": 1,
   "metadata": {},
   "outputs": [],
   "source": [
    "using LinearAlgebra"
   ]
  },
  {
   "cell_type": "markdown",
   "metadata": {},
   "source": [
    "### Tensor products and positional notation.\n",
    "Section A of Chapter 1 shows that if an integer $x$ between $0$ and $2^{n − 1}$ is represented\n",
    "by a $2^n$-component column vector with all components 0 except for a 1 in the position x\n",
    "places down from the top place (the top place is 0 places down from itself), then if the\n",
    "number is represented in binary, that column vector is just the tensor product of the n\n",
    "2-component column vectors that represent the values of its n bits. Give an argument\n",
    "that this is true of decimal numbers as well, taking as your example, if you wish, the\n",
    "number 532, showing that its representation as a 1000-component column vector (all 0’s\n",
    "except for a 1, 532 places down from the top place) is just the tensor product of the three\n",
    "10-component column vectors representing (from right to left) the digits 2, 3, and 5. Since\n",
    "it is hard to fit a 1000 entry column vector on the page, this requires an explanation that\n",
    "is, at least in part, verbal."
   ]
  },
  {
   "cell_type": "markdown",
   "metadata": {},
   "source": [
    "Let $v_1, v_0$ be one-hot vectors, of lengths $l_1, l_0$, respecively, where $v_1[a_1] = 1$ and $v_0[a_0] = 1$ (and all other positions in $v_1, v_0$ are $0$s).\n",
    "\n",
    "Consider the tensor product $v_1 \\otimes v_0$. Since both of those are one-hot vectors,\n",
    "the resulting vector will be of length $l_1 * l_0$ and it's value on position $i * l_0 + j$ will be:\n",
    "$$\n",
    "(v_1 \\otimes v_0)[i * l_0 + j] = v_1[i] * v_0[j]\n",
    "$$\n",
    "\n",
    "Especially,\n",
    "\n",
    "$$\n",
    "(v_1 \\otimes v_0)[i * l_0 + j] = 1 \\iff \\\\\n",
    "v_1[i] * v_0[j] = 1 \\iff \\\\\n",
    "v_1[i] = 1 \\land v_0[j] = 1 \\iff \\\\\n",
    "i = a_1 \\land j = a_0\n",
    "$$\n",
    "\n",
    "Analogusly the above can be done for N vectors.\n",
    "\n",
    "When $l_1 = 10, l_0 = 10$, the above applies to the excercise."
   ]
  },
  {
   "cell_type": "markdown",
   "metadata": {},
   "source": [
    "### The Toffoli gate\n",
    "\n",
    "The 3-Cbit controlled-controlled-NOT gate $T_{ijk}$ (also called the Toffoli gate, after its\n",
    "inventor) plays a very important role in the classical theory of reversible computation. It\n",
    "has two control bits ($i$ and $j$) and a target bit ($k$), and is defined to act as the identity\n",
    "unless both control bits are 1, in which case it acts as NOT on the target bit.\n",
    "Find the 8 × 8 matrices in the set of 3-Cbit states $|x_2\\rangle|x_1\\rangle|x_0\\rangle$ of $T_{210}, T_{201},\\text{ and }T_{102}$ by generalizing to 3-Cbit states the procedure used to construct the 4 × 4 matricesof cNOT on pages 14 and 15 of chapter 1."
   ]
  },
  {
   "cell_type": "markdown",
   "metadata": {},
   "source": [
    "For state $|x_2x_1x_0\\rangle = |X\\rangle$\n",
    "\n",
    "Gate $T_{ijk}$:\n",
    "\n",
    "* exchanges states $|2^i + 2^j\\rangle$ and $|2^i + 2^j + 2^k \\rangle = |7\\rangle$\n",
    "* acts as an identity otherwise"
   ]
  },
  {
   "cell_type": "code",
   "execution_count": 2,
   "metadata": {},
   "outputs": [
    {
     "data": {
      "text/plain": [
       "T (generic function with 1 method)"
      ]
     },
     "execution_count": 2,
     "metadata": {},
     "output_type": "execute_result"
    }
   ],
   "source": [
    "function T(i, j, k)\n",
    "    gate = Matrix{Float64}(I, 8, 8)\n",
    "    s1 = 2^i + 2^j\n",
    "    s2 = 7\n",
    "    s1_row = gate[s1+1, :] # gotta love julia's indexing\n",
    "    s2_row = gate[s2+1, :]\n",
    "    gate[s1+1, :] = s2_row\n",
    "    gate[s2+1, :] = s1_row\n",
    "    gate\n",
    "end"
   ]
  },
  {
   "cell_type": "code",
   "execution_count": 3,
   "metadata": {},
   "outputs": [
    {
     "data": {
      "text/plain": [
       "8×8 Array{Float64,2}:\n",
       " 1.0  0.0  0.0  0.0  0.0  0.0  0.0  0.0\n",
       " 0.0  1.0  0.0  0.0  0.0  0.0  0.0  0.0\n",
       " 0.0  0.0  1.0  0.0  0.0  0.0  0.0  0.0\n",
       " 0.0  0.0  0.0  1.0  0.0  0.0  0.0  0.0\n",
       " 0.0  0.0  0.0  0.0  1.0  0.0  0.0  0.0\n",
       " 0.0  0.0  0.0  0.0  0.0  1.0  0.0  0.0\n",
       " 0.0  0.0  0.0  0.0  0.0  0.0  0.0  1.0\n",
       " 0.0  0.0  0.0  0.0  0.0  0.0  1.0  0.0"
      ]
     },
     "execution_count": 3,
     "metadata": {},
     "output_type": "execute_result"
    }
   ],
   "source": [
    "T(2, 1, 0)"
   ]
  },
  {
   "cell_type": "code",
   "execution_count": 4,
   "metadata": {},
   "outputs": [
    {
     "data": {
      "text/plain": [
       "8×8 Array{Float64,2}:\n",
       " 1.0  0.0  0.0  0.0  0.0  0.0  0.0  0.0\n",
       " 0.0  1.0  0.0  0.0  0.0  0.0  0.0  0.0\n",
       " 0.0  0.0  1.0  0.0  0.0  0.0  0.0  0.0\n",
       " 0.0  0.0  0.0  1.0  0.0  0.0  0.0  0.0\n",
       " 0.0  0.0  0.0  0.0  1.0  0.0  0.0  0.0\n",
       " 0.0  0.0  0.0  0.0  0.0  0.0  0.0  1.0\n",
       " 0.0  0.0  0.0  0.0  0.0  0.0  1.0  0.0\n",
       " 0.0  0.0  0.0  0.0  0.0  1.0  0.0  0.0"
      ]
     },
     "execution_count": 4,
     "metadata": {},
     "output_type": "execute_result"
    }
   ],
   "source": [
    "T(2, 0 ,1)"
   ]
  },
  {
   "cell_type": "code",
   "execution_count": 5,
   "metadata": {},
   "outputs": [
    {
     "data": {
      "text/plain": [
       "8×8 Array{Float64,2}:\n",
       " 1.0  0.0  0.0  0.0  0.0  0.0  0.0  0.0\n",
       " 0.0  1.0  0.0  0.0  0.0  0.0  0.0  0.0\n",
       " 0.0  0.0  1.0  0.0  0.0  0.0  0.0  0.0\n",
       " 0.0  0.0  0.0  0.0  0.0  0.0  0.0  1.0\n",
       " 0.0  0.0  0.0  0.0  1.0  0.0  0.0  0.0\n",
       " 0.0  0.0  0.0  0.0  0.0  1.0  0.0  0.0\n",
       " 0.0  0.0  0.0  0.0  0.0  0.0  1.0  0.0\n",
       " 0.0  0.0  0.0  1.0  0.0  0.0  0.0  0.0"
      ]
     },
     "execution_count": 5,
     "metadata": {},
     "output_type": "execute_result"
    }
   ],
   "source": [
    "T(1, 0, 2)"
   ]
  }
 ],
 "metadata": {
  "kernelspec": {
   "display_name": "Julia 1.0.3",
   "language": "julia",
   "name": "julia-1.0"
  },
  "language_info": {
   "file_extension": ".jl",
   "mimetype": "application/julia",
   "name": "julia",
   "version": "1.0.3"
  }
 },
 "nbformat": 4,
 "nbformat_minor": 2
}
